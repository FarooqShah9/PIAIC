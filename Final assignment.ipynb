{
 "cells": [
  {
   "cell_type": "markdown",
   "metadata": {},
   "source": [
    "# Presidential Initiative for Artificial Intelligence and Computing (PIAIC)\n"
   ]
  },
  {
   "cell_type": "markdown",
   "metadata": {},
   "source": [
    "# Python Programming Assignment 1\n",
    "             Quarter I:\n",
    "AI-101 Fundamentals of Programming using Python\n",
    "First Quarter 2019 (12 Weeks)\n"
   ]
  },
  {
   "cell_type": "code",
   "execution_count": 61,
   "metadata": {},
   "outputs": [
    {
     "name": "stdout",
     "output_type": "stream",
     "text": [
      "enter radius of the circle:0.5\n",
      "area of the circle = 0.7853981633974483\n"
     ]
    }
   ],
   "source": [
    "#1. Calculate Area of a Circle\n",
    "#Write a Python program which accepts the radius of a circle from the user and compute the area.\n",
    "#Program Console Sample Output 1:\n",
    "#Input Radius: 0.5\n",
    "#Area of Circle with radius 0.5 is 0.7853981634\n",
    "#References:\n",
    "#https://www.mathsisfun.com/geometry/circle-area.html\n",
    "\n",
    "import math\n",
    "pi = 3.14\n",
    "radius = float(input(\"enter radius of the circle:\"))\n",
    "area = math.pi * radius * radius\n",
    "#circumference = 2 * pi * radius\n",
    "print(\"area of the circle = {0}\".format(area))\n",
    "#print(\"circumference of circle = % .2f\" %circumference)"
   ]
  },
  {
   "cell_type": "code",
   "execution_count": 8,
   "metadata": {},
   "outputs": [
    {
     "name": "stdout",
     "output_type": "stream",
     "text": [
      "please enter your number3\n",
      "Positive Number\n"
     ]
    }
   ],
   "source": [
    "###2. Check Number either positive, negative or zero\n",
    "Write a Python program to check if a number is positive, negative or zero\n",
    "Program Console Sample Output 1:\n",
    "Enter Number: -1\n",
    "Negative Number Entered\n",
    "Program Console Sample Output 2:\n",
    "Integer: 3\n",
    "Positive Number Entered\n",
    "Program Console Sample Output 3:\n",
    "Integer: 0\n",
    "Zero Entered\n",
    "###\n",
    "num = float(input(\"please enter your number\"))\n",
    "if num > 0 :\n",
    "    print(\"Positive Number\")\n",
    "elif num == 0:\n",
    "    print(\"Zero\")\n",
    "else:\n",
    "    print(\"Negetive Number\")"
   ]
  },
  {
   "cell_type": "code",
   "execution_count": 15,
   "metadata": {},
   "outputs": [
    {
     "name": "stdout",
     "output_type": "stream",
     "text": [
      "True\n",
      "False\n"
     ]
    }
   ],
   "source": [
    "###3. Divisibility Check of two numbers\n",
    "Write a Python program to check whether a number is completely divisible by another number. Accept two integer\n",
    "values form the user\n",
    "Program Console Sample Output 1:\n",
    "Enter numerator: 4\n",
    "Enter Denominator: 2\n",
    "Number 4 is Completely divisible by 2\n",
    "Program Console Sample Output 2:\n",
    "Enter numerator: 7\n",
    "Enter Denominator: 4\n",
    "Number 7 is not Completely divisible by 4\n",
    "###\n",
    "\n",
    "def multiple (a, b):\n",
    "    return True if a % b == 0 else False\n",
    "print(multiple(4,2))\n",
    "print(multiple(7,4))"
   ]
  },
  {
   "cell_type": "code",
   "execution_count": 17,
   "metadata": {},
   "outputs": [
    {
     "name": "stdout",
     "output_type": "stream",
     "text": [
      "4\n"
     ]
    }
   ],
   "source": [
    "###4. Days Calculator\n",
    "Write a Python program to calculate number of days between two dates\n",
    "Program Console Output:\n",
    "Enter a date in (dd/mm/yy) format: 12/12/2018\n",
    "Enter a date in (dd/mm/yy) format: 16/12/2018\n",
    "There are 4 days in between 12/12/2018 and 16/12/18\n",
    "###\n",
    "from datetime import date\n",
    "f_date = date(2018,12,12)\n",
    "l_date = date(2018,12,16)\n",
    "delta = l_date - f_date\n",
    "print(delta.days)"
   ]
  },
  {
   "cell_type": "code",
   "execution_count": 1,
   "metadata": {},
   "outputs": [
    {
     "name": "stdout",
     "output_type": "stream",
     "text": [
      "radias of sphere:1\n",
      "surface Area is:  12.571428571428571\n",
      "volume is:  4.19047619047619\n"
     ]
    }
   ],
   "source": [
    "###Calculate Volume of a sphere\n",
    "Write a Python program to get the volume of a sphere, please take the radius as input from user\n",
    "Program Console Output:\n",
    "Enter Radius of Sphere: 1\n",
    "Volume of the Sphere with Radius 1 is 4.18\n",
    "Reference:\n",
    "https://keisan.casio.com/exec/system/1223372883\n",
    "###\n",
    "pi = 22/7\n",
    "radian = float(input('radias of sphere:'))\n",
    "sur_area = 4 * pi * radian**2\n",
    "volume = (4/3)*(pi*radian**3)\n",
    "print(\"surface Area is: \", sur_area)\n",
    "print(\"volume is: \",volume)"
   ]
  },
  {
   "cell_type": "code",
   "execution_count": 5,
   "metadata": {},
   "outputs": [
    {
     "name": "stdout",
     "output_type": "stream",
     "text": [
      "HIHIHIHI\n"
     ]
    }
   ],
   "source": [
    "###6. Copy string n times\n",
    "Write a Python program to get a string which is n (non-negative integer) copies of a given string.\n",
    "Program Console Output:\n",
    "Enter String: Hi\n",
    "How many copies of String you need: 4\n",
    "4 Copies of Hi are HiHiHiHi\n",
    "###\n",
    "def larger_string(str,n):\n",
    "    result = \"\"\n",
    "    for i in range(n):\n",
    "        result = result + str\n",
    "    return result\n",
    "print(larger_string('HI',4))"
   ]
  },
  {
   "cell_type": "code",
   "execution_count": 6,
   "metadata": {},
   "outputs": [
    {
     "name": "stdout",
     "output_type": "stream",
     "text": [
      "Enter a number: 4\n",
      "this is even number\n"
     ]
    }
   ],
   "source": [
    "###7. Check if number is Even or Odd\n",
    "Write a Python program to find whether a given number (accept from the user) is even or odd, print out an\n",
    "appropriate message to the user\n",
    "Program Console Output 1:\n",
    "Enter Number: 4\n",
    "4 is Even\n",
    "Program Console Output 2:\n",
    "Enter Number: 9\n",
    "9 is Odd\n",
    "###\n",
    "num = int(input(\"Enter a number: \"))\n",
    "mod = num % 2\n",
    "if mod > 0:\n",
    "    print(\"This is Odd number\")\n",
    "else:\n",
    "    print(\"this is even number\")"
   ]
  },
  {
   "cell_type": "code",
   "execution_count": 7,
   "metadata": {},
   "outputs": [
    {
     "name": "stdout",
     "output_type": "stream",
     "text": [
      "Enter a number: 9\n",
      "This is Odd number\n"
     ]
    }
   ],
   "source": [
    "###\n",
    "###\n",
    "num = int(input(\"Enter a number: \"))\n",
    "mod = num % 2\n",
    "if mod > 0:\n",
    "    print(\"This is Odd number\")\n",
    "else:\n",
    "    print(\"this is even number\")"
   ]
  },
  {
   "cell_type": "code",
   "execution_count": 11,
   "metadata": {},
   "outputs": [
    {
     "name": "stdout",
     "output_type": "stream",
     "text": [
      "Please Enter Your Own Character : a\n",
      "The Given Character  a is a Vowel\n"
     ]
    }
   ],
   "source": [
    "###8. Vowel Tester\n",
    "Write a Python program to test whether a passed letter is a vowel or not\n",
    "Program Console Output 1:\n",
    "Enter a character: A\n",
    "Letter A is Vowel\n",
    "Program Console Output 2:\n",
    "Enter a character: e\n",
    "Letter e is Vowel\n",
    "Program Console Output 2:\n",
    "Enter a character: N\n",
    "Letter N is not Vowel\n",
    "###\n",
    "ch = input(\"Please Enter Your Own Character : \")\n",
    "\n",
    "if(ch == 'a' or ch == 'e' or ch == 'i' or ch == 'o' or ch == 'u' or ch == 'A'\n",
    "       or ch == 'E' or ch == 'I' or ch == 'O' or ch == 'U'):\n",
    "    print(\"The Given Character \", ch, \"is a Vowel\")\n",
    "else:\n",
    "    print(\"The Given Character \", ch, \"is not a vowel\")"
   ]
  },
  {
   "cell_type": "code",
   "execution_count": 12,
   "metadata": {},
   "outputs": [
    {
     "name": "stdout",
     "output_type": "stream",
     "text": [
      "Please Enter Your Own Character : e\n",
      "The Given Character  e is a Vowel\n"
     ]
    }
   ],
   "source": [
    "ch = input(\"Please Enter Your Own Character : \")\n",
    "\n",
    "if(ch == 'a' or ch == 'e' or ch == 'i' or ch == 'o' or ch == 'u' or ch == 'A'\n",
    "       or ch == 'E' or ch == 'I' or ch == 'O' or ch == 'U'):\n",
    "    print(\"The Given Character \", ch, \"is a Vowel\")\n",
    "else:\n",
    "    print(\"The Given Character \", ch, \"is not a vowel\")"
   ]
  },
  {
   "cell_type": "code",
   "execution_count": 13,
   "metadata": {},
   "outputs": [
    {
     "name": "stdout",
     "output_type": "stream",
     "text": [
      "Please Enter Your Own Character : N\n",
      "The Given Character  N is not a vowel\n"
     ]
    }
   ],
   "source": [
    "ch = input(\"Please Enter Your Own Character : \")\n",
    "\n",
    "if(ch == 'a' or ch == 'e' or ch == 'i' or ch == 'o' or ch == 'u' or ch == 'A'\n",
    "       or ch == 'E' or ch == 'I' or ch == 'O' or ch == 'U'):\n",
    "    print(\"The Given Character \", ch, \"is a Vowel\")\n",
    "else:\n",
    "    print(\"The Given Character \", ch, \"is not a vowel\")"
   ]
  },
  {
   "cell_type": "code",
   "execution_count": 14,
   "metadata": {},
   "outputs": [
    {
     "name": "stdout",
     "output_type": "stream",
     "text": [
      "input the base: 4\n",
      "input the hight: 4\n",
      "area =  8.0\n"
     ]
    }
   ],
   "source": [
    "###9. Triangle area\n",
    "Write a Python program that will accept the base and height of a triangle and compute the area\n",
    "Program Console Sample 1:\n",
    "Enter magnitude of Triangle base: 4\n",
    "Enter Magnitude of Triangle Height: 4\n",
    "Area of a Triangle with Height 4 and Base 4 is 8\n",
    "###\n",
    "b = int(input(\"input the base: \"))\n",
    "h = int(input(\"input the hight: \"))\n",
    "area = b*h/2\n",
    "print(\"area = \",area)"
   ]
  },
  {
   "cell_type": "code",
   "execution_count": 19,
   "metadata": {},
   "outputs": [
    {
     "name": "stdout",
     "output_type": "stream",
     "text": [
      "10510.1\n"
     ]
    }
   ],
   "source": [
    "###10. Calculate Interest\n",
    "Write a Python program to compute the future value of a specified principal amount, rate of interest, and a number\n",
    "of years\n",
    "Program Console Sample 1:\n",
    "Please enter principal amount: 10000\n",
    "Please Enter Rate of interest in %: 0.1\n",
    "Enter number of years for investment: 5\n",
    "After 5 years your principal amount 10000 over an interest rate of 0.1 % will be 16105.1\n",
    "###\n",
    "\n",
    "amount = 10000\n",
    "interest = 0.1\n",
    "years = 5\n",
    "future_value = amount*((1+(0.1*interest))**years)\n",
    "print(round(future_value,2))"
   ]
  },
  {
   "cell_type": "code",
   "execution_count": 5,
   "metadata": {},
   "outputs": [
    {
     "name": "stdout",
     "output_type": "stream",
     "text": [
      "2.0\n"
     ]
    }
   ],
   "source": [
    "###11. Euclidean distance\n",
    "Write a Python program to compute the distance between the points (x1, y1) and (x2, y2).\n",
    "Program Console Sample 1:\n",
    "Enter Co-ordinate for x1: 2\n",
    "Enter Co-ordinate for x2: 4\n",
    "Enter Co-ordinate for y1: 4\n",
    "Enter Co-ordinate for y2: 4\n",
    "Distance between points (2, 4) and (4, 4) is 2\n",
    "Reference:\n",
    "https://en.wikipedia.org/wiki/Euclidean_distance\n",
    "###\n",
    "\n",
    "import math\n",
    "a = [2,4]\n",
    "b = [4,4]\n",
    "distance = math.sqrt(((a[0]-b[0])**2)+((a[1]-b[1])**2))\n",
    "print(distance)"
   ]
  },
  {
   "cell_type": "code",
   "execution_count": 11,
   "metadata": {},
   "outputs": [
    {
     "name": "stdout",
     "output_type": "stream",
     "text": [
      "Feet: 5\n",
      "Inches: 0\n",
      "Your high is : 152 cm.\n"
     ]
    }
   ],
   "source": [
    "###12. Feet to Centimeter Converter\n",
    "Write a Python program to convert height in feet to centimetres.\n",
    "Program Console Sample 1:\n",
    "Enter Height in Feet: 5\n",
    "There are 152.4 Cm in 5 ft\n",
    "Reference:\n",
    "https://www.rapidtables.com/convert/length/feet-to-cm.html\n",
    "###\n",
    "h_ft= float(input(\"Feet: \"))\n",
    "h_inch = float(input(\"Inches: \"))\n",
    "h_inch += h_ft * 12\n",
    "h_cm = round(h_inch*2.54,1)\n",
    "print(\"Your high is : %d cm.\"% h_cm)"
   ]
  },
  {
   "cell_type": "code",
   "execution_count": 18,
   "metadata": {},
   "outputs": [
    {
     "name": "stdout",
     "output_type": "stream",
     "text": [
      "Please enter your height in cm: 1.8\n",
      "please enter your weight in kilogram: 75\n",
      "Your body mass index is :  23.15\n"
     ]
    }
   ],
   "source": [
    "###13. BMI Calculator\n",
    "Write a Python program to calculate body mass index\n",
    "Program Console Sample 1:\n",
    "Enter Height in Cm: 180\n",
    "Enter Weight in Kg: 75\n",
    "Your BMI is 23.15\n",
    "Reference:\n",
    "https://www.thecalculatorsite.com/articles/health/bmi-formula-for-bmi-calculations.php\n",
    "###\n",
    "\n",
    "height = float(input(\"Please enter your height in cm: \"))\n",
    "weight = float(input(\"please enter your weight in kilogram: \"))\n",
    "print(\"Your body mass index is : \", round(weight / (height * height), 2))"
   ]
  },
  {
   "cell_type": "code",
   "execution_count": 20,
   "metadata": {},
   "outputs": [
    {
     "name": "stdout",
     "output_type": "stream",
     "text": [
      "Enter a Postive Integer: 5\n",
      "The sum of first 5 Positive Integers 15.0\n"
     ]
    }
   ],
   "source": [
    "###14. Sum of n Positive Integers\n",
    "Write a python program to sum of the first n positive integers\n",
    "Program Console Sample 1:\n",
    "Enter value of n: 5\n",
    "Sum of n Positive integers till 5 is 15\n",
    "###\n",
    "x = int(input(\"Enter a Postive Integer: \"))\n",
    "total = x * (x+1) / 2\n",
    "print(\"The sum of first\",x,\"Positive Integers\",total)"
   ]
  },
  {
   "cell_type": "code",
   "execution_count": 27,
   "metadata": {},
   "outputs": [
    {
     "name": "stdout",
     "output_type": "stream",
     "text": [
      "Please Enter an Integer Number: 15\n",
      "The sum of the digits of integer number is 6\n"
     ]
    }
   ],
   "source": [
    "###15. Digits Sum of a Number\n",
    "Write a Python program to calculate the sum of the digits in an integer\n",
    "Program Console Sample 1:\n",
    "Enter a number: 15\n",
    "Sum of 1 + 5 is 6\n",
    "Program Console Sample 2:\n",
    "Enter a number: 1234\n",
    "Sum of 1 + 2 + 3 + 4 is 10\n",
    "###\n",
    "num = int(input(\"Please Enter an Integer Number: \"))\n",
    "sum = 0\n",
    "while num>0:\n",
    "    d = num%10\n",
    "    num= num//10\n",
    "    sum= sum + d\n",
    "print(\"The sum of the digits of integer number is\", sum)"
   ]
  },
  {
   "cell_type": "code",
   "execution_count": 28,
   "metadata": {},
   "outputs": [
    {
     "name": "stdout",
     "output_type": "stream",
     "text": [
      "Please Enter an Integer Number: 1234\n",
      "The sum of the digits of integer number is 10\n"
     ]
    }
   ],
   "source": [
    "num = int(input(\"Please Enter an Integer Number: \"))\n",
    "sum = 0\n",
    "while num>0:\n",
    "    d = num%10\n",
    "    num= num//10\n",
    "    sum= sum + d\n",
    "print(\"The sum of the digits of integer number is\", sum)"
   ]
  },
  {
   "cell_type": "code",
   "execution_count": 31,
   "metadata": {},
   "outputs": [
    {
     "name": "stdout",
     "output_type": "stream",
     "text": [
      "Enter a decimal number: 5\n",
      "1 0 1 "
     ]
    }
   ],
   "source": [
    "###16. Decimal to Binary Converter\n",
    "Write a Python program to convert an decimal integer to binary\n",
    "Program Console Sample 1:\n",
    "Enter a decimal number: 5\n",
    "Binary Representation of 5 is 101\n",
    "Program Console Sample 2:\n",
    "Enter a decimal number: 32\n",
    "Binary Representation of 32 is 100000‬\n",
    "Reference:\n",
    "https://www.rapidtables.com/convert/number/decimal-to-binary.html\n",
    "###\n",
    "def decimaltobinary(num):\n",
    "    if num > 1:\n",
    "        decimaltobinary(num//2)\n",
    "    print(num%2, end= \" \")\n",
    "        \n",
    "number = int(input(\"Enter a decimal number: \"))\n",
    "decimaltobinary(number)"
   ]
  },
  {
   "cell_type": "code",
   "execution_count": 32,
   "metadata": {},
   "outputs": [
    {
     "name": "stdout",
     "output_type": "stream",
     "text": [
      "Enter a decimal number: 32\n",
      "1 0 0 0 0 0 "
     ]
    }
   ],
   "source": [
    "def decimaltobinary(num):\n",
    "    if num > 1:\n",
    "        decimaltobinary(num//2)\n",
    "    print(num%2, end= \" \")\n",
    "        \n",
    "number = int(input(\"Enter a decimal number: \"))\n",
    "decimaltobinary(number)"
   ]
  },
  {
   "cell_type": "code",
   "execution_count": 33,
   "metadata": {},
   "outputs": [
    {
     "name": "stdout",
     "output_type": "stream",
     "text": [
      "enter a binary number: 1101\n",
      "The Decimal of Binary number Is:  13\n"
     ]
    }
   ],
   "source": [
    "###17. Binary to Decimal Converter\n",
    "#Write a program to convert binary number to Decimal number\n",
    "#Program Console Sample 1:\n",
    "#Enter a Binary number: 1101\n",
    "#Decimal Representation of 1101 is 13\n",
    "#Program Console Sample 2:\n",
    "#Enter a Binary number: 1001\n",
    "#Decimal Representation of 1001 is 9\n",
    "#eference:\n",
    "#https://www.rapidtables.com/convert/number/binary-to-decimal.html\n",
    "###\n",
    "b_num = list(input(\"enter a binary number: \"))\n",
    "value= 0\n",
    "for i in range(len(b_num)):\n",
    "    digit = b_num.pop()\n",
    "    if digit == '1':\n",
    "        value = value + pow(2,i)\n",
    "print(\"The Decimal of Binary number Is: \", value)"
   ]
  },
  {
   "cell_type": "code",
   "execution_count": 34,
   "metadata": {},
   "outputs": [
    {
     "name": "stdout",
     "output_type": "stream",
     "text": [
      "enter a binary number: 1001\n",
      "The Decimal of Binary number Is:  9\n"
     ]
    }
   ],
   "source": [
    "b_num = list(input(\"enter a binary number: \"))\n",
    "value= 0\n",
    "for i in range(len(b_num)):\n",
    "    digit = b_num.pop()\n",
    "    if digit == '1':\n",
    "        value = value + pow(2,i)\n",
    "print(\"The Decimal of Binary number Is: \", value)"
   ]
  },
  {
   "cell_type": "code",
   "execution_count": 64,
   "metadata": {},
   "outputs": [
    {
     "name": "stdout",
     "output_type": "stream",
     "text": [
      "Please Enter your Text: QuickBrownFoxJumpsovertheDog\n",
      "Total Number of Vowels in This Text =  9\n",
      "Total Number of Constants in This Text =  19\n"
     ]
    }
   ],
   "source": [
    "###18. Vowel and Consonants Counter\n",
    "#Input a text and count the occurrences of vowels and consonant\n",
    "#Program Console Sample 1:\n",
    "#Enter text: QuickBrownFoxJumpsovertheDog\n",
    "#Vowels: 9\n",
    "#Consonants: 19\n",
    "###\n",
    "\n",
    "wrd = input(\"Please Enter your Text: \")\n",
    "vowels = 0\n",
    "constants = 0\n",
    "for i in wrd:\n",
    "    if (i =='a'or i =='e'or i =='i'or i =='o'or i =='u'or\n",
    "       i =='A'or i =='E'or i =='I'or i =='O'or i =='U'):\n",
    "        vowels = vowels + 1\n",
    "    else:\n",
    "        constants= constants + 1\n",
    "print(\"Total Number of Vowels in This Text = \", vowels)\n",
    "print(\"Total Number of Constants in This Text = \", constants)\n",
    "    "
   ]
  },
  {
   "cell_type": "code",
   "execution_count": 70,
   "metadata": {},
   "outputs": [
    {
     "name": "stdout",
     "output_type": "stream",
     "text": [
      "True\n",
      "False\n"
     ]
    }
   ],
   "source": [
    "###19. Palindrome tester\n",
    "#Write a program to check whether given input is palindrome or not\n",
    "#Program Console Sample 1:\n",
    "#Enter text: AHA\n",
    "#Text AHA is Palindrome\n",
    "#Program Console Sample 2:\n",
    "#Enter text: Hello\n",
    "#Text Hello is not a Palindrome\n",
    "###\n",
    "def is_palondrom(word):\n",
    "    return word == word[::-1]\n",
    "    if word == word:#\n",
    "        return True\n",
    "    else:\n",
    "        return False\n",
    "print(is_palondrom(\"AHA\"))\n",
    "print(is_palondrom(\"Hello\"))"
   ]
  },
  {
   "cell_type": "code",
   "execution_count": 50,
   "metadata": {},
   "outputs": [
    {
     "name": "stdout",
     "output_type": "stream",
     "text": [
      "Enter a string Please: Python 3.2\n",
      "\n",
      "Alphabets:  6\n",
      "Digits:  2\n",
      "Specials:  1\n",
      "Spaces:  1\n"
     ]
    }
   ],
   "source": [
    "###20. Count Alphabets, Numbers and Special Characters\n",
    "Write a Python program that accepts a string and calculate the number of digits and letters\n",
    "Program Console Sample 1:\n",
    "Enter text: Python 3.2\n",
    "Numbers = 2\n",
    "Alphabets = 6\n",
    "Special Characters = 1\n",
    "Spaces = 1 \n",
    "\n",
    "###\n",
    "x=input(\"Enter a string Please: \")\n",
    "alphabets = digits = specials = spaces =  0\n",
    "for a in range(len(x)):\n",
    "    if (x[a].isalpha()):\n",
    "        alphabets = alphabets + 1\n",
    "    elif (x[a].isnumeric()):\n",
    "        digits = digits + 1\n",
    "    elif (x[a].isspace()):\n",
    "        spaces = spaces + 1\n",
    "    else:\n",
    "        specials = specials + 1\n",
    "        \n",
    "print(\"\\nAlphabets: \",alphabets)\n",
    "print(\"Digits: \",digits)\n",
    "print(\"Specials: \",specials)\n",
    "print(\"Spaces: \",spaces)"
   ]
  },
  {
   "cell_type": "code",
   "execution_count": 51,
   "metadata": {},
   "outputs": [
    {
     "name": "stdout",
     "output_type": "stream",
     "text": [
      "* \r\n",
      "* * \r\n",
      "* * * \r\n",
      "* * * * \r\n",
      "* * * * * \r\n",
      "* * * * * * \r\n",
      "* * * * * \r\n",
      "* * * * \r\n",
      "* * * \r\n",
      "* * \r\n",
      "* \r\n"
     ]
    }
   ],
   "source": [
    "###21. Write a Python program to construct the following pattern\n",
    "###\n",
    "def pattern(n):\n",
    "    k = 2 * n - 2\n",
    "    for i in range(0,n):\n",
    "        for j in range(0,i+1):\n",
    "            print(\"* \", end =\"\")\n",
    "        print(\"\\r\")\n",
    "    for i in range(n,-1,-1):\n",
    "        for j in range(0,i+1):\n",
    "            print(\"* \", end =\"\")\n",
    "        print(\"\\r\")\n",
    "    \n",
    "pattern(5)"
   ]
  },
  {
   "cell_type": "code",
   "execution_count": 88,
   "metadata": {},
   "outputs": [
    {
     "name": "stdout",
     "output_type": "stream",
     "text": [
      "\n",
      "1 \n",
      "2 2 \n",
      "3 3 3 \n",
      "4 4 4 4 \n",
      "5 5 5 5 5 \n",
      "4 4 4 4 \n",
      "3 3 3 \n",
      "2 2 \n",
      "1 \n"
     ]
    }
   ],
   "source": [
    "###21. Write a Python program to construct the following pattern\n",
    "###\n",
    "def pattern(n):\n",
    "\n",
    "    for i in range(num):\n",
    "        for j in range(i):\n",
    "            print(i , end =\" \")\n",
    "        print()\n",
    "    for i in range(num,0,-1):\n",
    "        for j in range(i):\n",
    "            print(i , end =\" \")\n",
    "        print()\n",
    "pattern(5)\n"
   ]
  },
  {
   "cell_type": "code",
   "execution_count": 58,
   "metadata": {},
   "outputs": [
    {
     "name": "stdout",
     "output_type": "stream",
     "text": [
      "1\r\n",
      "22\r\n",
      "333\r\n",
      "4444\r\n",
      "55555\r\n",
      "666666\r\n",
      "7777777\r\n",
      "88888888\r\n",
      "999999999\r\n"
     ]
    }
   ],
   "source": [
    "###21. Write a Python program to construct the following pattern\n",
    "###\n",
    "def pattern(n):\n",
    "    x = 0\n",
    "    for i in range(0,n):\n",
    "        x= x + 1\n",
    "        for j in range(0,i+1):\n",
    "            print(x, end =\"\")\n",
    "        print(\"\\r\")\n",
    "pattern(9)"
   ]
  },
  {
   "cell_type": "code",
   "execution_count": null,
   "metadata": {},
   "outputs": [],
   "source": []
  }
 ],
 "metadata": {
  "kernelspec": {
   "display_name": "Python 3",
   "language": "python",
   "name": "python3"
  },
  "language_info": {
   "codemirror_mode": {
    "name": "ipython",
    "version": 3
   },
   "file_extension": ".py",
   "mimetype": "text/x-python",
   "name": "python",
   "nbconvert_exporter": "python",
   "pygments_lexer": "ipython3",
   "version": "3.7.4"
  }
 },
 "nbformat": 4,
 "nbformat_minor": 2
}
